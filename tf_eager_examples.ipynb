{
  "nbformat": 4,
  "nbformat_minor": 0,
  "metadata": {
    "colab": {
      "name": "Convolution Eager example",
      "version": "0.3.2",
      "provenance": [],
      "collapsed_sections": [],
      "include_colab_link": true
    },
    "kernelspec": {
      "name": "python3",
      "display_name": "Python 3"
    },
    "accelerator": "GPU"
  },
  "cells": [
    {
      "cell_type": "markdown",
      "metadata": {
        "id": "view-in-github",
        "colab_type": "text"
      },
      "source": [
        "<a href=\"https://colab.research.google.com/github/patrick-lai/machine-learning-excercises/blob/master/tf_eager_examples.ipynb\" target=\"_parent\"><img src=\"https://colab.research.google.com/assets/colab-badge.svg\" alt=\"Open In Colab\"/></a>"
      ]
    },
    {
      "metadata": {
        "id": "Iqi17DRTfN4B",
        "colab_type": "code",
        "colab": {}
      },
      "cell_type": "code",
      "source": [
        "import tensorflow as tf\n",
        "import numpy as np\n",
        "tfe = tf.contrib.eager\n",
        "tf.enable_eager_execution()"
      ],
      "execution_count": 0,
      "outputs": []
    },
    {
      "metadata": {
        "id": "ZX6MSOCcgDDV",
        "colab_type": "code",
        "colab": {}
      },
      "cell_type": "code",
      "source": [
        "class MNISTModel(tf.keras.Model):\n",
        "  def __init__(self):\n",
        "    super(MNISTModel, self).__init__()\n",
        "    self.dense1 = tf.keras.layers.Dense(units=2)\n",
        "#     self.dense2 = tf.keras.layers.Dense(units=10)\n",
        "\n",
        "  def call(self, input):\n",
        "    \"\"\"Run the model.\"\"\"\n",
        "    result = self.dense1(input)\n",
        "#     result = self.dense2(result)\n",
        "#     result = self.dense2(result)  # reuse variables from dense2 layer\n",
        "    return result\n",
        "\n",
        "model = MNISTModel()"
      ],
      "execution_count": 0,
      "outputs": []
    },
    {
      "metadata": {
        "id": "HHfA1EoBip1T",
        "colab_type": "code",
        "outputId": "e8cfe360-17ff-49e7-ba24-0a6da8feabfc",
        "colab": {
          "base_uri": "https://localhost:8080/",
          "height": 35
        }
      },
      "cell_type": "code",
      "source": [
        "data = tf.constant([\n",
        "    [1]\n",
        "])\n",
        "output = model(data)\n",
        "print(output)"
      ],
      "execution_count": 0,
      "outputs": [
        {
          "output_type": "stream",
          "text": [
            "tf.Tensor([[-1  0]], shape=(1, 2), dtype=int32)\n"
          ],
          "name": "stdout"
        }
      ]
    },
    {
      "metadata": {
        "id": "iAUkKGXgjvaH",
        "colab_type": "code",
        "outputId": "5cd2b99c-6448-472c-cd35-3952e1d3e5c5",
        "colab": {
          "base_uri": "https://localhost:8080/",
          "height": 72
        }
      },
      "cell_type": "code",
      "source": [
        "model.weights"
      ],
      "execution_count": 0,
      "outputs": [
        {
          "output_type": "execute_result",
          "data": {
            "text/plain": [
              "[<tf.Variable 'mnist_model_3/dense_4/kernel:0' shape=(1, 2) dtype=int32, numpy=array([[-1,  0]], dtype=int32)>,\n",
              " <tf.Variable 'mnist_model_3/dense_4/bias:0' shape=(2,) dtype=int32, numpy=array([0, 0], dtype=int32)>]"
            ]
          },
          "metadata": {
            "tags": []
          },
          "execution_count": 21
        }
      ]
    },
    {
      "metadata": {
        "id": "jLB5OmVPqZEb",
        "colab_type": "code",
        "colab": {}
      },
      "cell_type": "code",
      "source": [
        "model = MNISTModel()\n",
        "optimizer = tf.train.GradientDescentOptimizer(learning_rate=0.01)"
      ],
      "execution_count": 0,
      "outputs": []
    },
    {
      "metadata": {
        "id": "XfSIB6nKksIr",
        "colab_type": "code",
        "outputId": "a2fd9800-bce0-4641-ac2b-9ef095d9ec93",
        "colab": {
          "base_uri": "https://localhost:8080/",
          "height": 213
        }
      },
      "cell_type": "code",
      "source": [
        "\n",
        "data = tf.constant([[1., 1.], [2., 2.]])\n",
        "label = tf.constant([[5., -5.], [10., -10.]])\n",
        "\n",
        "model(data)\n",
        "print(\"weights before training:\", model.weights)\n",
        "for i in range(3000):\n",
        "  with tf.GradientTape() as tape:\n",
        "    output = model(data)\n",
        "    loss_value = tf.reduce_mean((label - output) ** 2)\n",
        "#     print(\"output\", output.numpy(), \"loss_value\", loss_value.numpy())\n",
        "  grads = tape.gradient(loss_value, model.variables)\n",
        "#   print(\"grads\", grads)\n",
        "  optimizer.apply_gradients(zip(grads, model.variables),\n",
        "                              global_step=tf.train.get_or_create_global_step())\n",
        "\n",
        "print(\"output after training\", model(data))\n",
        "print(\"loss\", loss_value.numpy())\n",
        "print(\"weights after training:\", model.weights)"
      ],
      "execution_count": 0,
      "outputs": [
        {
          "output_type": "stream",
          "text": [
            "weights before training: [<tf.Variable 'mnist_model_38/dense_48/kernel:0' shape=(2, 2) dtype=float32, numpy=\n",
            "array([[ 3.0391092, -1.896043 ],\n",
            "       [ 1.6553326, -2.7063062]], dtype=float32)>, <tf.Variable 'mnist_model_38/dense_48/bias:0' shape=(2,) dtype=float32, numpy=array([ 0.5006547, -0.6515475], dtype=float32)>]\n",
            "output after training tf.Tensor(\n",
            "[[ 5.015436 -5.02009 ]\n",
            " [ 9.991259 -9.988625]], shape=(2, 2), dtype=float32)\n",
            "loss 0.00021227551\n",
            "weights after training: [<tf.Variable 'mnist_model_38/dense_48/kernel:0' shape=(2, 2) dtype=float32, numpy=\n",
            "array([[ 3.1797953, -2.0791366],\n",
            "       [ 1.7960275, -2.8893976]], dtype=float32)>, <tf.Variable 'mnist_model_38/dense_48/bias:0' shape=(2,) dtype=float32, numpy=array([ 0.03961316, -0.05155562], dtype=float32)>]\n"
          ],
          "name": "stdout"
        }
      ]
    },
    {
      "metadata": {
        "id": "j7Nm3OuSSkeX",
        "colab_type": "text"
      },
      "cell_type": "markdown",
      "source": [
        "# Let's try it on MNIST data"
      ]
    },
    {
      "metadata": {
        "id": "tJGgXz9mnfsd",
        "colab_type": "code",
        "outputId": "046a1ff4-e25d-4124-d535-8470da9ada41",
        "colab": {
          "base_uri": "https://localhost:8080/",
          "height": 52
        }
      },
      "cell_type": "code",
      "source": [
        "# Fetch and format the mnist data\n",
        "(mnist_images, mnist_labels), _ = tf.keras.datasets.mnist.load_data()\n",
        "\n",
        "dataset = tf.data.Dataset.from_tensor_slices(\n",
        "  (tf.cast(mnist_images[...,tf.newaxis]/255, tf.float32),\n",
        "   tf.cast(mnist_labels,tf.int64)))\n",
        "dataset = dataset.shuffle(1000).batch(32)"
      ],
      "execution_count": 0,
      "outputs": [
        {
          "output_type": "stream",
          "text": [
            "Downloading data from https://storage.googleapis.com/tensorflow/tf-keras-datasets/mnist.npz\n",
            "11493376/11490434 [==============================] - 0s 0us/step\n"
          ],
          "name": "stdout"
        }
      ]
    },
    {
      "metadata": {
        "id": "Pkp9FMg0wq8o",
        "colab_type": "code",
        "outputId": "467298b9-dd6c-478f-bb67-b6aba5b23524",
        "colab": {
          "base_uri": "https://localhost:8080/",
          "height": 35
        }
      },
      "cell_type": "code",
      "source": [
        "print(mnist_labels.shape)"
      ],
      "execution_count": 0,
      "outputs": [
        {
          "output_type": "stream",
          "text": [
            "(60000,)\n"
          ],
          "name": "stdout"
        }
      ]
    },
    {
      "metadata": {
        "id": "myJ8bf9ewZRc",
        "colab_type": "code",
        "colab": {}
      },
      "cell_type": "code",
      "source": [
        "import matplotlib.pyplot as plt"
      ],
      "execution_count": 0,
      "outputs": []
    },
    {
      "metadata": {
        "id": "OJt_xLCByA9K",
        "colab_type": "code",
        "outputId": "af2245cf-40d2-45d2-86d0-4685f3237d24",
        "colab": {
          "base_uri": "https://localhost:8080/",
          "height": 365
        }
      },
      "cell_type": "code",
      "source": [
        "plt.imshow(mnist_images[1])"
      ],
      "execution_count": 0,
      "outputs": [
        {
          "output_type": "execute_result",
          "data": {
            "text/plain": [
              "<matplotlib.image.AxesImage at 0x7f6be12f0128>"
            ]
          },
          "metadata": {
            "tags": []
          },
          "execution_count": 5
        },
        {
          "output_type": "display_data",
          "data": {
            "image/png": "[encoded data removed]",
            "text/plain": [
              "<Figure size 576x396 with 1 Axes>"
            ]
          },
          "metadata": {
            "tags": []
          }
        }
      ]
    },
    {
      "metadata": {
        "id": "J_pQKD5RwhxF",
        "colab_type": "code",
        "colab": {}
      },
      "cell_type": "code",
      "source": [
        "class MNISTModel(tf.keras.Model):\n",
        "  def __init__(self):\n",
        "    super(MNISTModel, self).__init__()\n",
        "#     self.dense1 = tf.keras.layers.Dense(units=10)\n",
        "#     self.dense2 = tf.keras.layers.Dense(units=10)\n",
        "#       tf.keras.layers.Conv2D(10,[3,3], activation='relu')\n",
        "      self.dense1 = tf.keras.layers.Dense(units=10)\n",
        "\n",
        "  def call(self, input):\n",
        "    \"\"\"Run the model.\"\"\"\n",
        "#     print(input.shape)\n",
        "    input = tf.reshape(input, (input.shape[0], -1))\n",
        "#     print(input.shape)\n",
        "    result = self.dense1(input)\n",
        "#     result = self.dense2(result)\n",
        "#     result = self.dense2(result)  # reuse variables from dense2 layer\n",
        "    return result"
      ],
      "execution_count": 0,
      "outputs": []
    },
    {
      "metadata": {
        "id": "ZJQGz1FcnbY9",
        "colab_type": "code",
        "outputId": "31b10d19-0a74-44a8-e6e7-f7ef0dafd379",
        "colab": {
          "base_uri": "https://localhost:8080/",
          "height": 195
        }
      },
      "cell_type": "code",
      "source": [
        "\n",
        "\n",
        "mnist_model = MNISTModel()\n",
        "\n",
        "for images,labels in dataset.take(1):\n",
        "  print(images[0:1].shape)\n",
        "  logits = mnist_model(images[0:1]).numpy()\n",
        "  print(\"Logits: \", logits.shape, logits)\n",
        "#   print(\"probabilities\", tf.nn.softmax(logits))\n",
        "\n",
        "optimizer = tf.train.AdamOptimizer()\n",
        "\n",
        "loss_history = []\n",
        "\n",
        "for (batch, (images, labels)) in enumerate(dataset.take(400)):\n",
        "  if batch % 80 == 0:\n",
        "    print()\n",
        "  print('.', end='')\n",
        "  with tf.GradientTape() as tape:\n",
        "    logits = mnist_model(images)\n",
        "    loss_value = tf.losses.sparse_softmax_cross_entropy(labels, logits)\n",
        "\n",
        "  loss_history.append(loss_value.numpy())\n",
        "  grads = tape.gradient(loss_value, mnist_model.variables)\n",
        "  optimizer.apply_gradients(zip(grads, mnist_model.variables),\n",
        "                            global_step=tf.train.get_or_create_global_step())"
      ],
      "execution_count": 0,
      "outputs": [
        {
          "output_type": "stream",
          "text": [
            "(1, 28, 28, 1)\n",
            "Logits:  (1, 10) [[ 0.3844425   0.62241435  0.21380556  0.24257356 -0.25161266  0.57992905\n",
            "   0.0861415   0.1174711   0.6501667   0.37367207]]\n",
            "\n",
            "................................................................................\n",
            "................................................................................\n",
            "................................................................................\n",
            "................................................................................\n",
            "................................................................................"
          ],
          "name": "stdout"
        }
      ]
    },
    {
      "metadata": {
        "id": "-26roYu2zK-P",
        "colab_type": "code",
        "outputId": "ab6a2bbb-a672-4a01-bd26-939789e6880d",
        "colab": {
          "base_uri": "https://localhost:8080/",
          "height": 368
        }
      },
      "cell_type": "code",
      "source": [
        "plt.plot(loss_history)"
      ],
      "execution_count": 0,
      "outputs": [
        {
          "output_type": "execute_result",
          "data": {
            "text/plain": [
              "[<matplotlib.lines.Line2D at 0x7f5ab5901ac8>]"
            ]
          },
          "metadata": {
            "tags": []
          },
          "execution_count": 114
        },
        {
          "output_type": "display_data",
          "data": {
            "image/png": "[encoded data removed]",
            "text/plain": [
              "<matplotlib.figure.Figure at 0x7f5ab59ebe10>"
            ]
          },
          "metadata": {
            "tags": []
          }
        }
      ]
    },
    {
      "metadata": {
        "id": "jRBA7L3r09qw",
        "colab_type": "code",
        "outputId": "a766c62a-65bd-41b9-fd7b-889d1cb24fd7",
        "colab": {
          "base_uri": "https://localhost:8080/",
          "height": 473
        }
      },
      "cell_type": "code",
      "source": [
        "\n",
        "for images,labels in dataset.take(1):\n",
        "  print(images[0:1].shape)\n",
        "  plt.imshow(np.squeeze(images[0:1], axis=0))\n",
        "  logits = mnist_model(images[0:1]).numpy()\n",
        "  print(\"Logits: \", logits.shape, logits)\n",
        "  print(\"probabilities\", tf.nn.softmax(logits))"
      ],
      "execution_count": 0,
      "outputs": [
        {
          "output_type": "stream",
          "text": [
            "(1, 28, 28, 1)\n",
            "Logits:  (1, 10) [[ 4.037184   -8.73653     0.01391749 -1.8983408  -7.009024   -0.6096395\n",
            "  -4.5864954  -4.064028   -0.43684003 -4.858221  ]]\n",
            "probabilities tf.Tensor(\n",
            "[[9.5953596e-01 2.7196170e-06 1.7170340e-02 2.5368554e-03 1.5302216e-05\n",
            "  9.2038922e-03 1.7252220e-04 2.9090405e-04 1.0940001e-02 1.3147283e-04]], shape=(1, 10), dtype=float32)\n"
          ],
          "name": "stdout"
        },
        {
          "output_type": "display_data",
          "data": {
            "image/png": "[encoded data removed]",
            "text/plain": [
              "<matplotlib.figure.Figure at 0x7f5ab59db0b8>"
            ]
          },
          "metadata": {
            "tags": []
          }
        }
      ]
    },
    {
      "metadata": {
        "id": "I-kdgf7_SxAO",
        "colab_type": "text"
      },
      "cell_type": "markdown",
      "source": [
        "# Let's try multiple layers of convolution"
      ]
    },
    {
      "metadata": {
        "id": "nwfzrUQCfEIt",
        "colab_type": "code",
        "colab": {}
      },
      "cell_type": "code",
      "source": [
        "# Fetch and format the mnist data\n",
        "# (cifar_images, cifar_labels), _ = tf.keras.datasets.cifar10.load_data()\n",
        "\n",
        "# dataset = tf.data.Dataset.from_tensor_slices(\n",
        "#   (tf.cast(cifar_images/255, tf.float32),\n",
        "#    tf.cast(cifar_labels,tf.int64)))\n",
        "# dataset = dataset.shuffle(1000).batch(32)\n",
        "\n",
        "(mnist_images, mnist_labels), _ = tf.keras.datasets.mnist.load_data()\n",
        "\n",
        "dataset = tf.data.Dataset.from_tensor_slices(\n",
        "  (tf.cast(mnist_images[...,tf.newaxis]/255, tf.float32),\n",
        "   tf.cast(mnist_labels,tf.int64)))\n",
        "dataset = dataset.shuffle(1000).batch(32)"
      ],
      "execution_count": 0,
      "outputs": []
    },
    {
      "metadata": {
        "id": "-uWNkMqKS0Wh",
        "colab_type": "code",
        "outputId": "e231470e-ea7c-49f6-ddcb-82ac1af2a948",
        "colab": {
          "base_uri": "https://localhost:8080/",
          "height": 52
        }
      },
      "cell_type": "code",
      "source": [
        "class MNISTModel(tf.keras.Model):\n",
        "  def __init__(self):\n",
        "    super().__init__()\n",
        "    self.conv1 = tf.keras.layers.Conv2D(10,[3,3], strides=(1, 1), padding='same', activation='relu')\n",
        "    self.conv2 = tf.keras.layers.Conv2D(8,[3,3], strides=(2, 2), padding='same', activation='relu')\n",
        "    self.dense1 = tf.keras.layers.Dense(units=10)\n",
        "\n",
        "  def call(self, input):\n",
        "    \"\"\"Run the model.\"\"\"\n",
        "    result = self.conv1(input)\n",
        "#     print(result.shape)\n",
        "    result = self.conv2(result)\n",
        "#     print(result.shape)\n",
        "    result = tf.reshape(result, (result.shape[0], -1))\n",
        "    result = self.dense1(result)\n",
        "    return result\n",
        "\n",
        "  def get_layers(self, input):\n",
        "    conv1 = self.conv1(input)\n",
        "    conv2 = self.conv2(conv1)\n",
        "    return [conv1.numpy(), conv2.numpy()]\n",
        "\n",
        "mnist_model = MNISTModel()\n",
        "\n",
        "for images,labels in dataset.take(1):\n",
        "  print(images[0:1].shape)\n",
        "  logits = mnist_model(images[0:1]).numpy()\n",
        "  probability = tf.nn.softmax(logits)\n",
        "  print(\"probability:\", tf.round(probability * 100))"
      ],
      "execution_count": 0,
      "outputs": [
        {
          "output_type": "stream",
          "text": [
            "(1, 28, 28, 1)\n",
            "probability: tf.Tensor([[10. 10. 10. 10. 10. 10. 10. 10. 10. 10.]], shape=(1, 10), dtype=float32)\n"
          ],
          "name": "stdout"
        }
      ]
    },
    {
      "metadata": {
        "id": "_yiMblvmTPE4",
        "colab_type": "code",
        "outputId": "ab2e0ddf-e0ff-499e-eb05-2191344e42a5",
        "colab": {
          "base_uri": "https://localhost:8080/",
          "height": 121
        }
      },
      "cell_type": "code",
      "source": [
        "optimizer = tf.train.AdamOptimizer(learning_rate=0.01)\n",
        "\n",
        "for (batch, (images, labels)) in enumerate(dataset.take(400)):\n",
        "  if batch % 80 == 0:\n",
        "    print()\n",
        "  print('.', end='')\n",
        "  with tf.GradientTape() as tape:\n",
        "    logits = mnist_model(images)\n",
        "    loss_value = tf.losses.sparse_softmax_cross_entropy(labels, logits)\n",
        "\n",
        "  grads = tape.gradient(loss_value, mnist_model.variables)\n",
        "  optimizer.apply_gradients(zip(grads, mnist_model.variables),\n",
        "                            global_step=tf.train.get_or_create_global_step())"
      ],
      "execution_count": 0,
      "outputs": [
        {
          "output_type": "stream",
          "text": [
            "\n",
            "................................................................................\n",
            "................................................................................\n",
            "................................................................................\n",
            "................................................................................\n",
            "................................................................................"
          ],
          "name": "stdout"
        }
      ]
    },
    {
      "metadata": {
        "id": "Ca0JvQOtVf7h",
        "colab_type": "code",
        "outputId": "c2a127cb-c460-402a-b822-e7807f6e3768",
        "colab": {
          "base_uri": "https://localhost:8080/",
          "height": 382
        }
      },
      "cell_type": "code",
      "source": [
        "for images,labels in dataset.take(1):\n",
        "  plt.imshow(np.squeeze(images[0], axis=0))\n",
        "  logits = mnist_model(images[0:1]).numpy()\n",
        "  probability = tf.nn.softmax(logits)\n",
        "  print(tf.round(probability * 100))\n",
        "  print(\"best guess:\", np.argmax(probability.numpy()))\n",
        "  conv1, conv2 = mnist_model.get_layers(images[0:1])"
      ],
      "execution_count": 0,
      "outputs": [
        {
          "output_type": "stream",
          "text": [
            "tf.Tensor([[  0.   0.   0.   0. 100.   0.   0.   0.   0.   0.]], shape=(1, 10), dtype=float32)\n",
            "best guess: 4\n"
          ],
          "name": "stdout"
        },
        {
          "output_type": "display_data",
          "data": {
            "image/png": "[encoded data removed]",
            "text/plain": [
              "<Figure size 576x396 with 1 Axes>"
            ]
          },
          "metadata": {
            "tags": []
          }
        }
      ]
    },
    {
      "metadata": {
        "id": "I3PUqjl3ZpDh",
        "colab_type": "code",
        "outputId": "8006614b-fc9a-458b-98c5-17a792dc1904",
        "colab": {
          "base_uri": "https://localhost:8080/",
          "height": 824
        }
      },
      "cell_type": "code",
      "source": [
        "import math\n",
        "conv_layer = conv1\n",
        "print(conv_layer.shape)\n",
        "plt.figure(figsize=(15,15))\n",
        "columns = 4\n",
        "count = conv_layer.shape[3]\n",
        "rows = math.ceil(1.0 * count / columns)\n",
        "for i in range(count):\n",
        "  plt.subplot(rows, columns, i + 1)\n",
        "  plt.imshow(conv_layer[0, :, :, i])\n",
        "\n",
        "plt.show()"
      ],
      "execution_count": 0,
      "outputs": [
        {
          "output_type": "stream",
          "text": [
            "(1, 28, 28, 10)\n"
          ],
          "name": "stdout"
        },
        {
          "output_type": "display_data",
          "data": {
            "image/png": "[encoded data removed]",
            "text/plain": [
              "<Figure size 1080x1080 with 10 Axes>"
            ]
          },
          "metadata": {
            "tags": []
          }
        }
      ]
    },
    {
      "metadata": {
        "id": "oXi0f6vhdIQo",
        "colab_type": "code",
        "outputId": "5cec7174-5d2f-4dac-fae8-f3046e4f74ee",
        "colab": {
          "base_uri": "https://localhost:8080/",
          "height": 675
        }
      },
      "cell_type": "code",
      "source": [
        "conv_layer = conv2\n",
        "\n",
        "plt.figure(figsize=(15,15))\n",
        "columns = 4\n",
        "count = conv_layer.shape[3]\n",
        "rows = math.ceil(1.0 * count / columns)\n",
        "for i in range(count):\n",
        "  plt.subplot(rows, columns, i + 1)\n",
        "  plt.imshow(conv_layer[0, :, :, i])\n",
        "\n",
        "plt.show()"
      ],
      "execution_count": 0,
      "outputs": [
        {
          "output_type": "display_data",
          "data": {
            "image/png": "[encoded data removed]",
            "text/plain": [
              "<Figure size 1080x1080 with 8 Axes>"
            ]
          },
          "metadata": {
            "tags": []
          }
        }
      ]
    },
    {
      "metadata": {
        "id": "Q5gLcVy0zmkn",
        "colab_type": "text"
      },
      "cell_type": "markdown",
      "source": [
        "# Directly estimate the number instead of output probabilities"
      ]
    },
    {
      "metadata": {
        "id": "7VLmS9gg0dFW",
        "colab_type": "code",
        "colab": {}
      },
      "cell_type": "code",
      "source": [
        "\n",
        "(mnist_images, mnist_labels), _ = tf.keras.datasets.mnist.load_data()\n",
        "\n",
        "dataset = tf.data.Dataset.from_tensor_slices(\n",
        "  (tf.cast(mnist_images[...,tf.newaxis]/255, tf.float32),\n",
        "   tf.cast(mnist_labels,tf.int64)))\n",
        "dataset = dataset.shuffle(1000).batch(32)"
      ],
      "execution_count": 0,
      "outputs": []
    },
    {
      "metadata": {
        "id": "Dv2WKBnJzlkW",
        "colab_type": "code",
        "outputId": "8e06cd70-7d92-4f81-a7ac-8d05cf56e4ca",
        "colab": {
          "base_uri": "https://localhost:8080/",
          "height": 52
        }
      },
      "cell_type": "code",
      "source": [
        "class MNISTModel(tf.keras.Model):\n",
        "  def __init__(self):\n",
        "    super().__init__()\n",
        "    self.conv1 = tf.keras.layers.Conv2D(10,[3,3], strides=(1, 1), padding='same', activation='relu')\n",
        "    self.conv2 = tf.keras.layers.Conv2D(8,[3,3], strides=(2, 2), padding='same', activation='relu')\n",
        "    self.dense1 = tf.keras.layers.Dense(units=1)\n",
        "\n",
        "  def call(self, input):\n",
        "    \"\"\"Run the model.\"\"\"\n",
        "    result = self.conv1(input)\n",
        "#     print(result.shape)\n",
        "    result = self.conv2(result)\n",
        "#     print(result.shape)\n",
        "    result = tf.reshape(result, (result.shape[0], -1))\n",
        "    result = self.dense1(result)\n",
        "    return result\n",
        "\n",
        "  def get_layers(self, input):\n",
        "    conv1 = self.conv1(input)\n",
        "    conv2 = self.conv2(conv1)\n",
        "    return [conv1.numpy(), conv2.numpy()]\n",
        "\n",
        "mnist_model = MNISTModel()\n",
        "\n",
        "for images,labels in dataset.take(1):\n",
        "  print(images[0:1].shape)\n",
        "  logits = mnist_model(images[0:1]).numpy()\n",
        "  print(\"Guess:\", logits)"
      ],
      "execution_count": 0,
      "outputs": [
        {
          "output_type": "stream",
          "text": [
            "(1, 28, 28, 1)\n",
            "Guess: [[0.05441934]]\n"
          ],
          "name": "stdout"
        }
      ]
    },
    {
      "metadata": {
        "id": "tlIG5pjH0L9u",
        "colab_type": "code",
        "outputId": "ca50c708-3219-4dcb-e7be-7a77a83f6f1c",
        "colab": {
          "base_uri": "https://localhost:8080/",
          "height": 399
        }
      },
      "cell_type": "code",
      "source": [
        "for images,labels in dataset.take(1):\n",
        "  print(images[0:1].shape)\n",
        "  plt.imshow(np.squeeze(images[0], axis=0))\n",
        "  logits = mnist_model(images[0:1]).numpy()\n",
        "  print(\"Guess:\", logits)\n",
        "  loss_value = (labels[0:1] - logits)**2\n",
        "  print(labels[0:1], loss_value)"
      ],
      "execution_count": 0,
      "outputs": [
        {
          "output_type": "stream",
          "text": [
            "(1, 28, 28, 1)\n",
            "Guess: [[-0.15766963]]\n",
            "tf.Tensor([3], shape=(1,), dtype=int64) tf.Tensor([[9]], shape=(1, 1), dtype=int64)\n"
          ],
          "name": "stdout"
        },
        {
          "output_type": "display_data",
          "data": {
            "image/png": "[encoded data removed]",
            "text/plain": [
              "<Figure size 576x396 with 1 Axes>"
            ]
          },
          "metadata": {
            "tags": []
          }
        }
      ]
    },
    {
      "metadata": {
        "id": "9dg24W8rz86G",
        "colab_type": "code",
        "colab": {}
      },
      "cell_type": "code",
      "source": [
        "optimizer = tf.train.AdamOptimizer(learning_rate=0.01)\n",
        "\n",
        "loss_history = []\n",
        "for i in range(3): \n",
        "  for (batch, (images, labels)) in enumerate(dataset.take(400)):\n",
        "#     if batch % 80 == 0:\n",
        "#       print()\n",
        "#     print('.', end='')\n",
        "    with tf.GradientTape() as tape:\n",
        "      logits = mnist_model(images)\n",
        "      loss_value = tf.reduce_mean((tf.cast(labels, tf.float32)-5. - logits)**2)\n",
        "    \n",
        "    loss_history.append(loss_value.numpy())\n",
        "    grads = tape.gradient(loss_value, mnist_model.variables)\n",
        "    optimizer.apply_gradients(zip(grads, mnist_model.variables),\n",
        "                              global_step=tf.train.get_or_create_global_step())"
      ],
      "execution_count": 0,
      "outputs": []
    },
    {
      "metadata": {
        "id": "aoxweePy2QG3",
        "colab_type": "code",
        "outputId": "68aa7a4a-e0c4-4fc6-b1ab-56d2b408efce",
        "colab": {
          "base_uri": "https://localhost:8080/",
          "height": 365
        }
      },
      "cell_type": "code",
      "source": [
        "plt.plot(loss_history)"
      ],
      "execution_count": 0,
      "outputs": [
        {
          "output_type": "execute_result",
          "data": {
            "text/plain": [
              "[<matplotlib.lines.Line2D at 0x7f6bd663c668>]"
            ]
          },
          "metadata": {
            "tags": []
          },
          "execution_count": 209
        },
        {
          "output_type": "display_data",
          "data": {
            "image/png": "[encoded data removed]",
            "text/plain": [
              "<Figure size 576x396 with 1 Axes>"
            ]
          },
          "metadata": {
            "tags": []
          }
        }
      ]
    },
    {
      "metadata": {
        "id": "mI0Ovx-M1I5O",
        "colab_type": "code",
        "outputId": "045e026e-14f9-45d7-c3f9-b2abce6d3391",
        "colab": {
          "base_uri": "https://localhost:8080/",
          "height": 365
        }
      },
      "cell_type": "code",
      "source": [
        "for images,labels in dataset.take(1):\n",
        "  plt.imshow(np.squeeze(images[0], axis=0))\n",
        "  logits = mnist_model(images[0:1]).numpy()\n",
        "  print(\"Label:\", labels[0], \" Logits:\", logits)"
      ],
      "execution_count": 0,
      "outputs": [
        {
          "output_type": "stream",
          "text": [
            "Label: tf.Tensor(6, shape=(), dtype=int64)  Logits: [[-0.53693867]]\n"
          ],
          "name": "stdout"
        },
        {
          "output_type": "display_data",
          "data": {
            "image/png": "[encoded data removed]",
            "text/plain": [
              "<Figure size 576x396 with 1 Axes>"
            ]
          },
          "metadata": {
            "tags": []
          }
        }
      ]
    }
  ]
}